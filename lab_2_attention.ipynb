{
  "cells": [
    {
      "cell_type": "markdown",
      "metadata": {
        "id": "view-in-github",
        "colab_type": "text"
      },
      "source": [
        "<a href=\"https://colab.research.google.com/github/anhnguyenvv/NLP-A/blob/main/lab_2_attention.ipynb\" target=\"_parent\"><img src=\"https://colab.research.google.com/assets/colab-badge.svg\" alt=\"Open In Colab\"/></a>"
      ]
    },
    {
      "cell_type": "markdown",
      "metadata": {
        "collapsed": false,
        "id": "Vp_wu5kAqiEX"
      },
      "source": [
        "- Nguyễn Thị Lan Anh\n",
        "- MSSV: 21120198"
      ]
    },
    {
      "cell_type": "markdown",
      "metadata": {
        "collapsed": false,
        "id": "FJxmacXKqiEZ"
      },
      "source": [
        "# Lab 2: Coding Attention Mechanisms\n",
        "\n"
      ]
    },
    {
      "cell_type": "markdown",
      "metadata": {
        "collapsed": false,
        "id": "Mb7onSlBqiEZ"
      },
      "source": [
        "Bài tập 1: Hiện thực cơ chế Attention theo hướng dẫn dưới đây\n"
      ]
    },
    {
      "cell_type": "code",
      "source": [
        "#!pip install tiktoken\n"
      ],
      "metadata": {
        "id": "h2olEy5_1q_J"
      },
      "execution_count": null,
      "outputs": []
    },
    {
      "cell_type": "code",
      "execution_count": null,
      "metadata": {
        "colab": {
          "base_uri": "https://localhost:8080/"
        },
        "id": "dFDyNr-GqiEb",
        "outputId": "fb1df977-b835-4ae0-ec65-8b7efe69f455"
      },
      "outputs": [
        {
          "output_type": "stream",
          "name": "stdout",
          "text": [
            "torch version: 2.2.1+cu121\n"
          ]
        }
      ],
      "source": [
        "from importlib.metadata import version\n",
        "import tiktoken\n",
        "import torch.nn as nn\n",
        "from torch.utils.data import Dataset, DataLoader\n",
        "import torch\n",
        "\n",
        "print(\"torch version:\", version(\"torch\"))"
      ]
    },
    {
      "cell_type": "code",
      "source": [
        "\n",
        "class GPTDatasetV1(Dataset):\n",
        "    def __init__(self, txt, tokenizer, max_length, stride):\n",
        "        self.tokenizer = tokenizer\n",
        "        self.input_ids = []\n",
        "        self.target_ids = []\n",
        "\n",
        "        # Tokenize the entire text\n",
        "        token_ids = self.tokenizer.encode(txt, allowed_special={'<|endoftext|>'})\n",
        "\n",
        "        # Use a sliding window to chunk the book into overlapping sequences of max_length\n",
        "        for i in range(0, len(token_ids) - max_length, stride):\n",
        "            input_chunk = token_ids[i:i + max_length]\n",
        "            target_chunk = token_ids[i + 1: i + max_length + 1]\n",
        "            self.input_ids.append(torch.tensor(input_chunk))\n",
        "            self.target_ids.append(torch.tensor(target_chunk))\n",
        "\n",
        "    def __len__(self):\n",
        "        return len(self.input_ids)\n",
        "\n",
        "    def __getitem__(self, idx):\n",
        "        return self.input_ids[idx], self.target_ids[idx]\n",
        "\n",
        "\n",
        "def create_dataloader(txt, batch_size=4, max_length=256, stride=128, shuffle=True):\n",
        "    # Initialize the tokenizer\n",
        "    tokenizer = tiktoken.get_encoding(\"gpt2\")\n",
        "\n",
        "    # Create dataset\n",
        "    dataset = GPTDatasetV1(txt, tokenizer, max_length, stride)\n",
        "\n",
        "    # Create dataloader\n",
        "    dataloader = DataLoader(dataset, batch_size=batch_size, shuffle=shuffle)\n",
        "\n",
        "    return dataloader\n",
        "\n",
        "\n",
        "with open(\"small-text-sample.txt\", \"r\", encoding=\"utf-8\") as f:\n",
        "    raw_text = f.read()\n",
        "\n",
        "tokenizer = tiktoken.get_encoding(\"gpt2\")\n",
        "encoded_text = tokenizer.encode(raw_text)\n",
        "\n",
        "vocab_size = 50257\n",
        "output_dim = 256\n",
        "max_len = 1024\n",
        "context_length = max_len\n",
        "\n",
        "\n",
        "token_embedding_layer = nn.Embedding(vocab_size, output_dim)\n",
        "pos_embedding_layer = torch.nn.Embedding(context_length, output_dim)\n",
        "\n",
        "max_length = 4\n",
        "dataloader = create_dataloader(raw_text, batch_size=8, max_length=max_length, stride=max_length)\n",
        "\n",
        "for batch in dataloader:\n",
        "    x, y = batch\n",
        "\n",
        "    token_embeddings = token_embedding_layer(x)\n",
        "    pos_embeddings = pos_embedding_layer(torch.arange(max_length))\n",
        "\n",
        "    input_embeddings = token_embeddings + pos_embeddings\n",
        "\n",
        "    break\n",
        "print(input_embeddings.shape)\n"
      ],
      "metadata": {
        "colab": {
          "base_uri": "https://localhost:8080/"
        },
        "id": "_O2CMEVEq19I",
        "outputId": "29dafe32-5323-4a53-f398-02e7be233da3"
      },
      "execution_count": null,
      "outputs": [
        {
          "output_type": "stream",
          "name": "stdout",
          "text": [
            "torch.Size([8, 4, 256])\n"
          ]
        }
      ]
    },
    {
      "cell_type": "markdown",
      "source": [
        "### Stacking multiple single-head attention layers"
      ],
      "metadata": {
        "id": "BOX7HKgRsOzg"
      }
    },
    {
      "cell_type": "code",
      "execution_count": null,
      "metadata": {
        "id": "60d8c2eb-2d8e-4d2c-99bc-9eef8cc53ca0"
      },
      "outputs": [],
      "source": [
        "class CausalAttention(nn.Module):\n",
        "\n",
        "    def __init__(self, d_in, d_out, context_length, dropout, qkv_bias=False):\n",
        "        super().__init__()\n",
        "        self.d_out = d_out\n",
        "        self.W_query = nn.Linear(d_in, d_out, bias=qkv_bias)\n",
        "        self.W_key   = nn.Linear(d_in, d_out, bias=qkv_bias)\n",
        "        self.W_value = nn.Linear(d_in, d_out, bias=qkv_bias)\n",
        "        self.dropout = nn.Dropout(dropout) # New\n",
        "        self.register_buffer('mask', torch.triu(torch.ones(context_length, context_length), diagonal=1)) # New\n",
        "\n",
        "    def forward(self, x):\n",
        "        b, num_tokens, d_in = x.shape # New batch dimension b\n",
        "        keys = self.W_key(x)\n",
        "        queries = self.W_query(x)\n",
        "        values = self.W_value(x)\n",
        "\n",
        "        attn_scores = queries @ keys.transpose(1, 2) # Changed transpose\n",
        "        attn_scores.masked_fill_(  # New, _ ops are in-place\n",
        "            self.mask.bool()[:num_tokens, :num_tokens], -torch.inf)\n",
        "        attn_weights = torch.softmax(attn_scores / keys.shape[-1]**0.5, dim=-1)\n",
        "        attn_weights = self.dropout(attn_weights) # New\n",
        "\n",
        "        context_vec = attn_weights @ values\n",
        "        return context_vec\n"
      ]
    },
    {
      "cell_type": "code",
      "execution_count": null,
      "metadata": {
        "colab": {
          "base_uri": "https://localhost:8080/"
        },
        "id": "6bSycZ8SqiEy",
        "outputId": "9fc220d4-a506-4e26-8a34-9049d96a19dd"
      },
      "outputs": [
        {
          "output_type": "stream",
          "name": "stdout",
          "text": [
            "tensor([[[ 4.6033e-02, -6.3286e-01,  1.7111e-01,  ...,  6.4656e-02,\n",
            "           9.8718e-01, -2.6798e+00],\n",
            "         [ 6.5834e-04,  2.3516e-01,  4.7861e-01,  ..., -8.1290e-01,\n",
            "           1.4536e+00,  2.1630e-01],\n",
            "         [-4.5651e-03, -5.3619e-01,  6.0358e-01,  ..., -1.0656e-01,\n",
            "           1.0925e+00, -9.9287e-01],\n",
            "         [-9.8647e-01, -5.9767e-02,  5.8819e-01,  ...,  5.4085e-02,\n",
            "           1.0313e+00, -1.7786e-01]],\n",
            "\n",
            "        [[-5.7155e-01,  2.6873e-01,  2.6834e-01,  ...,  1.3315e+00,\n",
            "           1.3944e+00, -1.8267e+00],\n",
            "         [-2.9561e-01,  8.0231e-01,  7.7059e-01,  ..., -7.8213e-01,\n",
            "           1.3960e+00, -4.4450e-01],\n",
            "         [-3.4341e-01,  5.5711e-01,  5.3558e-01,  ...,  8.3890e-01,\n",
            "           1.3271e+00, -5.1539e-01],\n",
            "         [-4.2369e-01,  3.0098e-01, -1.1571e-01,  ..., -1.4267e-01,\n",
            "           1.0688e+00, -4.6010e-01]],\n",
            "\n",
            "        [[-8.8587e-01, -1.3805e+00,  3.7421e-01,  ..., -2.0886e-01,\n",
            "           5.6081e-01, -1.2400e+00],\n",
            "         [-7.3261e-02, -9.8847e-01,  4.8681e-01,  ..., -2.4965e-01,\n",
            "           8.0534e-01, -8.9556e-01],\n",
            "         [ 5.3702e-02, -5.6438e-01,  9.1743e-01,  ..., -2.2581e-01,\n",
            "           1.3480e+00,  2.1151e-01],\n",
            "         [-2.5941e-01, -5.5908e-01,  6.1760e-01,  ..., -1.8573e-01,\n",
            "           1.0530e+00, -1.8347e-01]],\n",
            "\n",
            "        ...,\n",
            "\n",
            "        [[ 3.0154e-01, -4.0370e-01,  2.7183e-01,  ...,  1.5864e-01,\n",
            "           1.2924e+00, -2.0142e+00],\n",
            "         [ 2.2491e-01,  2.4844e-02,  4.1651e-01,  ..., -2.7957e-01,\n",
            "           1.0071e+00, -6.2843e-01],\n",
            "         [-3.2519e-03,  2.4056e-01,  8.9871e-01,  ...,  1.2428e-01,\n",
            "           1.0471e+00, -8.1387e-01],\n",
            "         [-4.3025e-01,  4.9245e-01,  2.9620e-02,  ...,  2.9925e-01,\n",
            "           1.0205e+00, -6.9847e-01]],\n",
            "\n",
            "        [[-9.8678e-02, -1.5296e+00, -8.4980e-01,  ..., -4.2491e-01,\n",
            "          -6.5766e-02, -2.3502e+00],\n",
            "         [ 1.1269e-01, -6.7539e-01, -1.2689e-01,  ..., -3.2688e-01,\n",
            "           4.7858e-02, -1.9701e+00],\n",
            "         [-1.5632e-01,  3.9726e-01,  2.6675e-01,  ...,  5.5223e-02,\n",
            "           3.4126e-01, -4.8510e-01],\n",
            "         [ 2.1549e-01,  6.6193e-01,  3.2302e-02,  ...,  1.1343e-01,\n",
            "           5.2025e-01, -3.6571e-02]],\n",
            "\n",
            "        [[ 2.2279e-01, -1.2695e+00, -3.4947e-01,  ..., -2.0688e-01,\n",
            "           2.6826e-01, -2.5620e+00],\n",
            "         [ 9.7010e-02, -8.5652e-01, -3.4737e-01,  ..., -3.7178e-01,\n",
            "           2.0163e-01, -1.5575e+00],\n",
            "         [ 2.3752e-01, -3.2768e-01, -2.9147e-01,  ..., -3.5260e-01,\n",
            "           2.3591e-01, -1.4582e+00],\n",
            "         [-9.7463e-02,  9.2910e-02, -2.4461e-01,  ..., -7.2907e-02,\n",
            "           6.0987e-01, -1.0571e+00]]], grad_fn=<CatBackward0>)\n",
            "context_vecs.shape: torch.Size([8, 4, 256])\n"
          ]
        }
      ],
      "source": [
        "class MultiHeadAttentionWrapper(nn.Module):\n",
        "\n",
        "    def __init__(self, d_in, d_out, context_length, dropout, num_heads, qkv_bias=False):\n",
        "        super().__init__()\n",
        "        self.heads = nn.ModuleList(\n",
        "            [CausalAttention(d_in, d_out, context_length, dropout, qkv_bias)\n",
        "             for _ in range(num_heads)]\n",
        "        )\n",
        "\n",
        "    def forward(self, x):\n",
        "        return torch.cat([head(x) for head in self.heads], dim=-1)\n",
        "\n",
        "torch.manual_seed(123)\n",
        "batch = input_embeddings\n",
        "context_length = batch.shape[1] # This is the number of tokens\n",
        "d_in = batch.shape[2]\n",
        "d_out = d_in//2\n",
        "mha = MultiHeadAttentionWrapper(d_in, d_out, context_length, 0.0, num_heads=2)\n",
        "\n",
        "context_vecs = mha(batch)\n",
        "\n",
        "print(context_vecs)\n",
        "print(\"context_vecs.shape:\", context_vecs.shape)"
      ]
    },
    {
      "cell_type": "markdown",
      "source": [
        "### Implementing multi-head attention with weight splits"
      ],
      "metadata": {
        "id": "p5DYdaKhsfn-"
      }
    },
    {
      "cell_type": "code",
      "execution_count": null,
      "metadata": {
        "colab": {
          "base_uri": "https://localhost:8080/"
        },
        "id": "GppZDMpWqiEy",
        "outputId": "bc9a30a9-7954-40d7-f2e3-91c8042ac488"
      },
      "outputs": [
        {
          "output_type": "stream",
          "name": "stdout",
          "text": [
            "tensor([[[-0.9617,  0.1650, -0.3285,  ..., -0.1773, -0.1679,  0.6039],\n",
            "         [-0.4813,  0.1987, -0.2177,  ..., -0.0611, -0.2748,  0.1040],\n",
            "         [-0.8232, -0.0221, -0.1746,  ..., -0.6942, -0.0821,  0.2019],\n",
            "         [-0.4854,  0.1744, -0.2682,  ..., -0.1140, -0.3442,  0.2085]],\n",
            "\n",
            "        [[-1.1217,  0.2088, -0.2023,  ..., -0.6521, -0.5238,  0.5701],\n",
            "         [-0.8093,  0.3071,  0.1316,  ..., -0.5678, -0.4888,  0.3124],\n",
            "         [-0.7436,  0.2415, -0.1342,  ..., -0.5415, -0.3638,  0.0940],\n",
            "         [-0.4893,  0.4997,  0.0320,  ..., -0.4244, -0.3667, -0.0307]],\n",
            "\n",
            "        [[-0.7319,  0.0512,  0.2716,  ...,  0.0594, -0.3071,  0.3349],\n",
            "         [-0.7018,  0.4336,  0.0914,  ..., -0.2570, -0.0165, -0.4193],\n",
            "         [-0.5730,  0.3150,  0.0230,  ..., -0.4784, -0.1448, -0.2210],\n",
            "         [-0.3104,  0.3939,  0.2216,  ..., -0.4126, -0.1577, -0.1642]],\n",
            "\n",
            "        ...,\n",
            "\n",
            "        [[-1.1467, -0.3973, -0.5450,  ..., -0.0322, -0.6292,  0.2600],\n",
            "         [-0.6773,  0.2409, -0.1651,  ..., -0.0339, -0.6218, -0.2696],\n",
            "         [-0.6021,  0.0709, -0.0697,  ..., -0.1887, -0.6267, -0.2143],\n",
            "         [-0.3826,  0.1729,  0.0795,  ..., -0.1198, -0.6230, -0.1883]],\n",
            "\n",
            "        [[-1.0136, -0.4007, -0.9086,  ..., -0.5477, -0.4014,  0.3460],\n",
            "         [-0.4677, -0.0282, -0.2671,  ..., -0.1133, -0.6190,  0.1341],\n",
            "         [-0.8648,  0.0842, -0.4404,  ..., -0.4443, -0.3503,  0.0342],\n",
            "         [-0.2039,  0.1544,  0.0744,  ..., -0.2138, -0.5595,  0.0346]],\n",
            "\n",
            "        [[-0.0811, -0.3205, -0.3014,  ..., -0.1903, -0.3332, -0.1545],\n",
            "         [-0.6245,  0.1896, -0.2615,  ..., -0.3386, -0.3902, -0.2503],\n",
            "         [-0.1642, -0.1012, -0.1828,  ..., -0.4474, -0.3483, -0.2056],\n",
            "         [-0.1334,  0.3220,  0.2275,  ..., -0.1227, -0.1787, -0.3042]]],\n",
            "       grad_fn=<ViewBackward0>)\n",
            "context_vecs.shape: torch.Size([8, 4, 256])\n"
          ]
        }
      ],
      "source": [
        "class MultiHeadAttention(nn.Module):\n",
        "    def __init__(self, d_in, d_out, context_length, dropout, num_heads, qkv_bias=False):\n",
        "        super().__init__()\n",
        "        assert d_out % num_heads == 0, \"d_out must be divisible by num_heads\"\n",
        "\n",
        "        self.d_out = d_out\n",
        "        self.num_heads = num_heads\n",
        "        self.head_dim = d_out // num_heads # Reduce the projection dim to match desired output dim\n",
        "\n",
        "        self.W_query = nn.Linear(d_in, d_out, bias=qkv_bias)\n",
        "        self.W_key = nn.Linear(d_in, d_out, bias=qkv_bias)\n",
        "        self.W_value = nn.Linear(d_in, d_out, bias=qkv_bias)\n",
        "        self.out_proj = nn.Linear(d_out, d_out)  # Linear layer to combine head outputs\n",
        "        self.dropout = nn.Dropout(dropout)\n",
        "        self.register_buffer('mask', torch.triu(torch.ones(context_length, context_length), diagonal=1))\n",
        "\n",
        "    def forward(self, x):\n",
        "        b, num_tokens, d_in = x.shape\n",
        "\n",
        "        keys = self.W_key(x) # Shape: (b, num_tokens, d_out)\n",
        "        queries = self.W_query(x)\n",
        "        values = self.W_value(x)\n",
        "\n",
        "        # We implicitly split the matrix by adding a `num_heads` dimension\n",
        "        # Unroll last dim: (b, num_tokens, d_out) -> (b, num_tokens, num_heads, head_dim)\n",
        "        keys = keys.view(b, num_tokens, self.num_heads, self.head_dim)\n",
        "        values = values.view(b, num_tokens, self.num_heads, self.head_dim)\n",
        "        queries = queries.view(b, num_tokens, self.num_heads, self.head_dim)\n",
        "\n",
        "        # Transpose: (b, num_tokens, num_heads, head_dim) -> (b, num_heads, num_tokens, head_dim)\n",
        "        keys = keys.transpose(1, 2)\n",
        "        queries = queries.transpose(1, 2)\n",
        "        values = values.transpose(1, 2)\n",
        "\n",
        "        # Compute scaled dot-product attention (aka self-attention) with a causal mask\n",
        "        attn_scores = queries @ keys.transpose(2, 3)  # Dot product for each head\n",
        "\n",
        "        # Original mask truncated to the number of tokens and converted to boolean\n",
        "        mask_bool = self.mask.bool()[:num_tokens, :num_tokens]\n",
        "\n",
        "        # Use the mask to fill attention scores\n",
        "        attn_scores.masked_fill_(mask_bool, -torch.inf)\n",
        "\n",
        "        attn_weights = torch.softmax(attn_scores / keys.shape[-1]**0.5, dim=-1)\n",
        "        attn_weights = self.dropout(attn_weights)\n",
        "\n",
        "        # Shape: (b, num_tokens, num_heads, head_dim)\n",
        "        context_vec = (attn_weights @ values).transpose(1, 2)\n",
        "\n",
        "        # Combine heads, where self.d_out = self.num_heads * self.head_dim\n",
        "        context_vec = context_vec.contiguous().view(b, num_tokens, self.d_out)\n",
        "        context_vec = self.out_proj(context_vec) # optional projection\n",
        "\n",
        "        return context_vec\n",
        "\n",
        "torch.manual_seed(123)\n",
        "\n",
        "batch = input_embeddings\n",
        "batch_size, context_length, d_in = batch.shape\n",
        "d_out = d_in\n",
        "mha = MultiHeadAttention(d_in, d_out, context_length, 0.0, num_heads=2)\n",
        "\n",
        "context_vecs = mha(batch)\n",
        "\n",
        "print(context_vecs)\n",
        "print(\"context_vecs.shape:\", context_vecs.shape)"
      ]
    },
    {
      "cell_type": "markdown",
      "metadata": {
        "collapsed": false,
        "id": "8qqEsXxCqiEz"
      },
      "source": [
        "# Bài tập 2:\n",
        "\n",
        "So sánh SelfAttention\\_v1 và SelfAttention\\_v2\n",
        "\n",
        "Lưu ý rằng nn.Linear trong SelfAttention\\_v2 sử dụng sơ đồ khởi tạo trọng số khác với nn.Parameter\\(torch.rand\\(d\\_in, d\\_out\\)\\) được sử dụng trong SelfAttention\\_v1, khiến cả hai cơ chế tạo ra các kết quả khác nhau. Để kiểm tra xem cả hai cách triển khai SelfAttention\\_v1 và SelfAttention\\_v2 có giống nhau hay không, chúng ta có thể chuyển ma trận trọng số từ đối tượng SelfAttention\\_v2 sang SelfAttention\\_v1, sao cho cả hai đối tượng đều tạo ra kết quả giống nhau.\n",
        "\n",
        "Nhiệm vụ của bạn là gán chính xác các trọng số từ một instance của SelfAttention\\_v2 cho một instance của SelfAttention\\_v1. Để làm được điều này, bạn cần hiểu mối quan hệ giữa các trọng số trong cả hai phiên bản. \\(Gợi ý: nn.Linear lưu trữ ma trận trọng số ở dạng chuyển đổi\\). Sau khi gán, kết quả đầu ra của cả 2 phải giống nhau.\n",
        "\n",
        "Gợi ý: sử dụng input \"Your journey starts with one step\" có ở phần đầu.\n"
      ]
    },
    {
      "cell_type": "code",
      "execution_count": null,
      "metadata": {
        "colab": {
          "base_uri": "https://localhost:8080/"
        },
        "id": "XEuJvrrOM641",
        "outputId": "d120cf30-ae11-406b-ee6b-4783038ef843"
      },
      "outputs": [
        {
          "output_type": "execute_result",
          "data": {
            "text/plain": [
              "torch.Size([6, 3])"
            ]
          },
          "metadata": {},
          "execution_count": 7
        }
      ],
      "source": [
        "import torch\n",
        "\n",
        "inputs = torch.tensor(\n",
        "  [[0.43, 0.15, 0.89], # Your     (x^1)\n",
        "   [0.55, 0.87, 0.66], # journey  (x^2)\n",
        "   [0.57, 0.85, 0.64], # starts   (x^3)\n",
        "   [0.22, 0.58, 0.33], # with     (x^4)\n",
        "   [0.77, 0.25, 0.10], # one      (x^5)\n",
        "   [0.05, 0.80, 0.55]] # step     (x^6)\n",
        ")\n",
        "inputs.shape"
      ]
    },
    {
      "cell_type": "code",
      "execution_count": null,
      "metadata": {
        "id": "4WDTPGHh1ESz"
      },
      "outputs": [],
      "source": [
        "import torch.nn as nn\n",
        "\n",
        "class SelfAttention_v1(nn.Module):\n",
        "\n",
        "    def __init__(self, d_in, d_out):\n",
        "        super().__init__()\n",
        "        self.d_out = d_out\n",
        "        self.W_query = nn.Parameter(torch.rand(d_in, d_out))\n",
        "        self.W_key   = nn.Parameter(torch.rand(d_in, d_out))\n",
        "        self.W_value = nn.Parameter(torch.rand(d_in, d_out))\n",
        "\n",
        "    def forward(self, x):\n",
        "        keys = x @ self.W_key\n",
        "        queries = x @ self.W_query\n",
        "        values = x @ self.W_value\n",
        "\n",
        "        attn_scores = queries @ keys.T # omega\n",
        "        attn_weights = torch.softmax(attn_scores / keys.shape[-1]**0.5, dim=-1)\n",
        "\n",
        "        context_vec = attn_weights @ values\n",
        "        return context_vec\n",
        "d_in, d_out = inputs.shape[1], 2\n",
        "torch.manual_seed(123)\n",
        "sa_v1 = SelfAttention_v1(d_in, d_out)"
      ]
    },
    {
      "cell_type": "code",
      "execution_count": null,
      "metadata": {
        "id": "Te93WO-Y1ES0"
      },
      "outputs": [],
      "source": [
        "class SelfAttention_v2(nn.Module):\n",
        "\n",
        "    def __init__(self, d_in, d_out, qkv_bias=False):\n",
        "        super().__init__()\n",
        "        self.d_out = d_out\n",
        "        self.W_query = nn.Linear(d_in, d_out, bias=qkv_bias)\n",
        "        self.W_key   = nn.Linear(d_in, d_out, bias=qkv_bias)\n",
        "        self.W_value = nn.Linear(d_in, d_out, bias=qkv_bias)\n",
        "\n",
        "    def forward(self, x):\n",
        "        keys = self.W_key(x)\n",
        "        queries = self.W_query(x)\n",
        "        values = self.W_value(x)\n",
        "\n",
        "        attn_scores = queries @ keys.T\n",
        "        attn_weights = torch.softmax(attn_scores / keys.shape[-1]**0.5, dim=1)\n",
        "\n",
        "        context_vec = attn_weights @ values\n",
        "        return context_vec\n",
        "\n",
        "torch.manual_seed(123)\n",
        "sa_v2 = SelfAttention_v2(d_in, d_out)"
      ]
    },
    {
      "cell_type": "code",
      "source": [
        "sa_v1.W_query = torch.nn.Parameter(sa_v2.W_query.weight.T)\n",
        "sa_v1.W_key = torch.nn.Parameter(sa_v2.W_key.weight.T)\n",
        "sa_v1.W_value = torch.nn.Parameter(sa_v2.W_value.weight.T)"
      ],
      "metadata": {
        "id": "Y3-WM_uxM8hP"
      },
      "execution_count": null,
      "outputs": []
    },
    {
      "cell_type": "code",
      "source": [
        "print(sa_v1(inputs))\n",
        "print(sa_v2(inputs))\n"
      ],
      "metadata": {
        "colab": {
          "base_uri": "https://localhost:8080/"
        },
        "id": "ebHI-jdGM8oS",
        "outputId": "8b81ce71-425c-4fa0-f393-8bd8ece4b9e4"
      },
      "execution_count": null,
      "outputs": [
        {
          "output_type": "stream",
          "name": "stdout",
          "text": [
            "tensor([[-0.5337, -0.1051],\n",
            "        [-0.5323, -0.1080],\n",
            "        [-0.5323, -0.1079],\n",
            "        [-0.5297, -0.1076],\n",
            "        [-0.5311, -0.1066],\n",
            "        [-0.5299, -0.1081]], grad_fn=<MmBackward0>)\n",
            "tensor([[-0.5337, -0.1051],\n",
            "        [-0.5323, -0.1080],\n",
            "        [-0.5323, -0.1079],\n",
            "        [-0.5297, -0.1076],\n",
            "        [-0.5311, -0.1066],\n",
            "        [-0.5299, -0.1081]], grad_fn=<MmBackward0>)\n"
          ]
        }
      ]
    },
    {
      "cell_type": "markdown",
      "source": [
        "=> SelfAttention_v1 và SelfAttention_v2 cho ra kết quả giống nhau."
      ],
      "metadata": {
        "id": "_GTh9xFKNezV"
      }
    },
    {
      "cell_type": "markdown",
      "metadata": {
        "collapsed": false,
        "id": "_Cbu5q9EqiEz"
      },
      "source": [
        "# Bài tập 3:\n",
        "\n",
        "Trả về vectơ nhúng 2 chiều\n",
        "\n",
        "Thay đổi đối số đầu vào cho lệnh gọi MultiHeadAttentionWrapper\\(..., num\\_heads=2\\) sao cho vectơ ngữ cảnh đầu ra là 2 chiều thay vì 4 chiều trong khi vẫn giữ cài đặt num\\_heads=2. Gợi ý: Bạn không phải sửa đổi cách triển khai lớp; bạn chỉ cần thay đổi một trong các đối số đầu vào khác.\n",
        "\n"
      ]
    },
    {
      "cell_type": "code",
      "execution_count": null,
      "metadata": {
        "id": "977a5fa7-a9d5-4e2e-8a32-8e0331ccfe28",
        "outputId": "94aa8fcd-5f79-4432-bbce-ef7277c0ca67",
        "colab": {
          "base_uri": "https://localhost:8080/"
        }
      },
      "outputs": [
        {
          "output_type": "stream",
          "name": "stdout",
          "text": [
            "torch.Size([2, 6, 3])\n"
          ]
        }
      ],
      "source": [
        "batch = torch.stack((inputs, inputs), dim=0)\n",
        "print(batch.shape) # 2 inputs with 6 tokens each, and each token has embedding dimension 3"
      ]
    },
    {
      "cell_type": "markdown",
      "source": [
        "- Để vectơ ngữ cảnh đầu ra là 2 chiều thay vì 4 chiều trong khi vẫn giữ cài đặt *num_heads* = 2 ta thay đổi *d_out* = 1 vì vectơ ngữ cảnh đầu ra của hàm MultiHeadAttentionWrapper(..., num_heads=2) có chiều dài là *d_out x num_head*."
      ],
      "metadata": {
        "id": "tliFhZoUZHic"
      }
    },
    {
      "cell_type": "code",
      "execution_count": null,
      "metadata": {
        "id": "iic6ASApYGwY"
      },
      "outputs": [],
      "source": [
        "class CausalAttention(nn.Module):\n",
        "\n",
        "    def __init__(self, d_in, d_out, context_length, dropout, qkv_bias=False):\n",
        "        super().__init__()\n",
        "        self.d_out = d_out\n",
        "        self.W_query = nn.Linear(d_in, d_out, bias=qkv_bias)\n",
        "        self.W_key   = nn.Linear(d_in, d_out, bias=qkv_bias)\n",
        "        self.W_value = nn.Linear(d_in, d_out, bias=qkv_bias)\n",
        "        self.dropout = nn.Dropout(dropout) # New\n",
        "        self.register_buffer('mask', torch.triu(torch.ones(context_length, context_length), diagonal=1)) # New\n",
        "\n",
        "    def forward(self, x):\n",
        "        b, num_tokens, d_in = x.shape # New batch dimension b\n",
        "        keys = self.W_key(x)\n",
        "        queries = self.W_query(x)\n",
        "        values = self.W_value(x)\n",
        "\n",
        "        attn_scores = queries @ keys.transpose(1, 2) # Changed transpose\n",
        "        attn_scores.masked_fill_(  # New, _ ops are in-place\n",
        "            self.mask.bool()[:num_tokens, :num_tokens], -torch.inf)\n",
        "        attn_weights = torch.softmax(attn_scores / keys.shape[-1]**0.5, dim=-1)\n",
        "        attn_weights = self.dropout(attn_weights) # New\n",
        "\n",
        "        context_vec = attn_weights @ values\n",
        "        return context_vec\n"
      ]
    },
    {
      "cell_type": "code",
      "source": [
        "class MultiHeadAttentionWrapper(nn.Module):\n",
        "\n",
        "    def __init__(self, d_in, d_out, context_length, dropout, num_heads, qkv_bias=False):\n",
        "        super().__init__()\n",
        "        self.heads = nn.ModuleList(\n",
        "            [CausalAttention(d_in, d_out, context_length, dropout, qkv_bias)\n",
        "             for _ in range(num_heads)]\n",
        "        )\n",
        "\n",
        "    def forward(self, x):\n",
        "        return torch.cat([head(x) for head in self.heads], dim=-1)\n",
        "\n",
        "\n",
        "torch.manual_seed(123)\n",
        "\n",
        "context_length = batch.shape[1] # This is the number of tokens\n",
        "d_in, d_out = 3, 1\n",
        "mha = MultiHeadAttentionWrapper(d_in, d_out, context_length, 0.0, num_heads=2)\n",
        "\n",
        "context_vecs = mha(batch)\n",
        "\n",
        "print(context_vecs)\n",
        "print(\"context_vecs.shape:\", context_vecs.shape)"
      ],
      "metadata": {
        "colab": {
          "base_uri": "https://localhost:8080/"
        },
        "id": "TuY3jco0NxvB",
        "outputId": "b8f54de1-af57-4f98-83ca-1037a78c6c2e"
      },
      "execution_count": null,
      "outputs": [
        {
          "output_type": "stream",
          "name": "stdout",
          "text": [
            "tensor([[[-0.5740,  0.2216],\n",
            "         [-0.7320,  0.0155],\n",
            "         [-0.7774, -0.0546],\n",
            "         [-0.6979, -0.0817],\n",
            "         [-0.6538, -0.0957],\n",
            "         [-0.6424, -0.1065]],\n",
            "\n",
            "        [[-0.5740,  0.2216],\n",
            "         [-0.7320,  0.0155],\n",
            "         [-0.7774, -0.0546],\n",
            "         [-0.6979, -0.0817],\n",
            "         [-0.6538, -0.0957],\n",
            "         [-0.6424, -0.1065]]], grad_fn=<CatBackward0>)\n",
            "context_vecs.shape: torch.Size([2, 6, 2])\n"
          ]
        }
      ]
    }
  ],
  "metadata": {
    "kernelspec": {
      "argv": [
        "/usr/bin/python3",
        "-m",
        "ipykernel",
        "--HistoryManager.enabled=False",
        "--matplotlib=inline",
        "-c",
        "%config InlineBackend.figure_formats = set(['retina'])\nimport matplotlib; matplotlib.rcParams['figure.figsize'] = (12, 7)",
        "-f",
        "{connection_file}"
      ],
      "display_name": "Python 3 (system-wide)",
      "env": {},
      "language": "python",
      "metadata": {
        "cocalc": {
          "description": "Python 3 programming language",
          "priority": 100,
          "url": "https://www.python.org/"
        }
      },
      "name": "python3",
      "resource_dir": "/ext/jupyter/kernels/python3"
    },
    "language_info": {
      "codemirror_mode": {
        "name": "ipython",
        "version": 3
      },
      "file_extension": ".py",
      "mimetype": "text/x-python",
      "name": "python",
      "nbconvert_exporter": "python",
      "pygments_lexer": "ipython3",
      "version": "3.10.6"
    },
    "colab": {
      "provenance": [],
      "collapsed_sections": [
        "5eNeiENtqiEc",
        "Tbyv9HpGqiEd",
        "CaakMgqbqiEn",
        "6KvuXPzzqiEw",
        "FeUNrvqOqiEx"
      ],
      "include_colab_link": true
    }
  },
  "nbformat": 4,
  "nbformat_minor": 0
}